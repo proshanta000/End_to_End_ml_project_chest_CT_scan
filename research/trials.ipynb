{
 "cells": [
  {
   "cell_type": "markdown",
   "id": "71305af2",
   "metadata": {},
   "source": [
    "### download data from gdrive"
   ]
  },
  {
   "cell_type": "code",
   "execution_count": 1,
   "id": "7d61f911",
   "metadata": {},
   "outputs": [],
   "source": [
    "import gdown"
   ]
  },
  {
   "cell_type": "code",
   "execution_count": 2,
   "id": "1ec138da",
   "metadata": {},
   "outputs": [],
   "source": [
    "url = \"https://drive.google.com/file/d/1x2-rTzeGji4n6oPOB_bA6rbK5wyqhW5h/view?usp=drive_link\""
   ]
  },
  {
   "cell_type": "code",
   "execution_count": 5,
   "id": "d199ef56",
   "metadata": {},
   "outputs": [
    {
     "data": {
      "text/plain": [
       "'1x2-rTzeGji4n6oPOB_bA6rbK5wyqhW5h'"
      ]
     },
     "execution_count": 5,
     "metadata": {},
     "output_type": "execute_result"
    }
   ],
   "source": [
    "file_id= url.split(\"/\")[-2]\n",
    "file_id"
   ]
  },
  {
   "cell_type": "code",
   "execution_count": 6,
   "id": "732ef5e1",
   "metadata": {},
   "outputs": [
    {
     "name": "stderr",
     "output_type": "stream",
     "text": [
      "Downloading...\n",
      "From: https://drive.google.com/uc?/export=download&id=1x2-rTzeGji4n6oPOB_bA6rbK5wyqhW5h\n",
      "To: d:\\Data_science\\Projects\\End_to_End_ml_project_chest_CT_scan\\research\\chest_CT_scan_data.7z\n",
      "100%|██████████| 80.9M/80.9M [01:51<00:00, 726kB/s] \n"
     ]
    },
    {
     "data": {
      "text/plain": [
       "'chest_CT_scan_data.7z'"
      ]
     },
     "execution_count": 6,
     "metadata": {},
     "output_type": "execute_result"
    }
   ],
   "source": [
    "prefix = \"https://drive.google.com/uc?/export=download&id=\"\n",
    "gdown.download(prefix+file_id, \"chest_CT_scan_data.7z\")"
   ]
  }
 ],
 "metadata": {
  "kernelspec": {
   "display_name": "Python 3",
   "language": "python",
   "name": "python3"
  },
  "language_info": {
   "codemirror_mode": {
    "name": "ipython",
    "version": 3
   },
   "file_extension": ".py",
   "mimetype": "text/x-python",
   "name": "python",
   "nbconvert_exporter": "python",
   "pygments_lexer": "ipython3",
   "version": "3.13.0"
  }
 },
 "nbformat": 4,
 "nbformat_minor": 5
}
